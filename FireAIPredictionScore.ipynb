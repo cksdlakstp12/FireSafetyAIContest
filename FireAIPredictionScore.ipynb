{
  "nbformat": 4,
  "nbformat_minor": 0,
  "metadata": {
    "colab": {
      "name": "FireAIPredictionScore.ipynb",
      "provenance": [],
      "collapsed_sections": [],
      "include_colab_link": true
    },
    "kernelspec": {
      "name": "python3",
      "display_name": "Python 3"
    },
    "language_info": {
      "name": "python"
    }
  },
  "cells": [
    {
      "cell_type": "markdown",
      "metadata": {
        "id": "view-in-github",
        "colab_type": "text"
      },
      "source": [
        "<a href=\"https://colab.research.google.com/github/cksdlakstp12/Fire_Safety_AI_Competition/blob/main/FireAIPredictionScore.ipynb\" target=\"_parent\"><img src=\"https://colab.research.google.com/assets/colab-badge.svg\" alt=\"Open In Colab\"/></a>"
      ]
    },
    {
      "cell_type": "code",
      "execution_count": null,
      "metadata": {
        "id": "ecv4btWir8PL"
      },
      "outputs": [],
      "source": [
        "import pandas as pd\n",
        "import numpy as np\n",
        "import time\n",
        "from datetime import datetime, timedelta\n",
        "from calendar import monthrange"
      ]
    },
    {
      "cell_type": "code",
      "source": [
        "df = pd.read_csv(\"grid_dataset.csv\")"
      ],
      "metadata": {
        "id": "rYaamqdasQui"
      },
      "execution_count": null,
      "outputs": []
    },
    {
      "cell_type": "code",
      "source": [
        "# 모든 GRID_ID 중 출동 빈도가 가장 높은 GRID_ID순으로 출력\n",
        "print(df.groupby(\"GRID_ID\").sum().sort_values(\"DSP_CNT_IDEX\", ascending=False)[[\"DSP_CNT_IDEX\"]])"
      ],
      "metadata": {
        "colab": {
          "base_uri": "https://localhost:8080/"
        },
        "id": "vOAnJfvZuAcr",
        "outputId": "2ca1b160-a714-4178-d5fa-49c46da15d01"
      },
      "execution_count": null,
      "outputs": [
        {
          "output_type": "stream",
          "name": "stdout",
          "text": [
            "          DSP_CNT_IDEX\n",
            "GRID_ID               \n",
            "39545254          1085\n",
            "39545274           961\n",
            "39445274           708\n",
            "39645264           608\n",
            "39645244           511\n",
            "...                ...\n",
            "39145104             0\n",
            "38645304             0\n",
            "38645314             0\n",
            "40245264             0\n",
            "38745184             0\n",
            "\n",
            "[687 rows x 1 columns]\n"
          ]
        }
      ]
    },
    {
      "cell_type": "code",
      "source": [
        "df.loc[df[\"GRID_ID\"] == 39445274].to_csv(\"test.csv\")"
      ],
      "metadata": {
        "id": "z3zlPSIiFaIZ"
      },
      "execution_count": null,
      "outputs": []
    },
    {
      "cell_type": "code",
      "source": [
        "inp_val = [] # 예측 점수를 평가할 입력값 리스트\n",
        "d = datetime(2020, 1, 1) # 예측할 첫 날\n",
        "lastd = datetime(2020, 12, 31) # 마지막 날\n",
        "\n",
        "while d < lastd:\n",
        "  _, lstday = monthrange(d.year, d.month) # lstday에는 해당 월의 마지막 날짜가 저장됨\n",
        "  if d.day == lstday: # 마지막 날은 예측을 위해 스킵함\n",
        "    d += timedelta(days=1)\n",
        "    continue\n",
        "  \n",
        "  ymd = int(d.strftime(\"%Y%m%d\")) # 해당 년월일에 대해,\n",
        "  for t in range(0, 24): # 24시간동안,\n",
        "    GRID_ID = 39545274 # 사고 발생 격자를 39545274(가장 사고 빈도가 높았던 GRID ID)로 선정\n",
        "    inp_val.append((ymd, t, GRID_ID))\n",
        "  \n",
        "  d += timedelta(days=1)"
      ],
      "metadata": {
        "id": "XERmi5syuP3a"
      },
      "execution_count": null,
      "outputs": []
    },
    {
      "cell_type": "code",
      "source": [
        "# inp_val = []\n",
        "res = [] # 결과 리스트\n",
        "for (ymd, t, grid_id) in inp_val: # YMD, TIME 상에 해당 GRID_ID의 DSP_CNT_IDEX가 1 이상인지를 확인하는 로직\n",
        "  v = (df.loc[(df[\"YMD\"] == ymd) & (df[\"TIME\"] == t) & (df[\"GRID_ID\"] == grid_id)][\"DSP_CNT_IDEX\"] >= 1).any()# 만약 특정 YMD, TIME, GRID_ID의 DSP_CNT_IDEX가 1 이상이면 1, 또는 0\n",
        "  res.append(v) # 결과에 추가\n",
        "print(\"예측 정확도:\", np.mean(np.array(res))) # 결과의 평균 정확도를 출력"
      ],
      "metadata": {
        "colab": {
          "base_uri": "https://localhost:8080/"
        },
        "id": "X6WG5HHEtKIF",
        "outputId": "9c028db4-5c5a-42a3-e048-5fdb5e08aa0c"
      },
      "execution_count": null,
      "outputs": [
        {
          "output_type": "stream",
          "name": "stdout",
          "text": [
            "예측 정확도: 0.11240583804143126\n"
          ]
        }
      ]
    },
    {
      "cell_type": "markdown",
      "source": [
        "GRID_ID 39545274\n",
        "\n",
        "예측 정확도: 0.0981638418079096\n",
        "\n",
        "GRID_ID 39545254\n",
        "\n",
        "예측 정확도: 0.11240583804143126"
      ],
      "metadata": {
        "id": "Tb3Zx1HY0HTG"
      }
    },
    {
      "cell_type": "code",
      "source": [
        ""
      ],
      "metadata": {
        "id": "2hpA5D0w0P67"
      },
      "execution_count": null,
      "outputs": []
    }
  ]
}